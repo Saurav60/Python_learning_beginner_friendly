{
 "cells": [
  {
   "cell_type": "markdown",
   "metadata": {
    "id": "R4BCbdWhGb2B"
   },
   "source": [
    "# Problem Statement\n",
    "\n",
    "Shopping List Application\n",
    "You are developing a shopping list application in Python. Throughout the project, you will encounter various programming challenges."
   ]
  },
  {
   "cell_type": "markdown",
   "metadata": {
    "id": "12-ZCch4Gpre"
   },
   "source": [
    "## Q1. Question 1 (3 marks):\n",
    "You want to store the prices of items (in $) in your shopping list. Which data type in Python is best suited for this purpose? Create a dictionary to store item prices with item. Print the dictionary (Note - Add items apple : 2.0, orange : 1.0, bread : 3.5, milk : 2.5, eggs : 1.0)\n"
   ]
  },
  {
   "cell_type": "code",
   "execution_count": 1,
   "metadata": {
    "id": "Pg_gf5asGFnQ"
   },
   "outputs": [
    {
     "name": "stdout",
     "output_type": "stream",
     "text": [
      "Item Prices:\n",
      "apple: $2.0\n",
      "orange: $1.0\n",
      "bread: $3.5\n",
      "milk: $2.5\n",
      "eggs: $1.0\n"
     ]
    }
   ],
   "source": [
    "item_prices = {\n",
    "    'apple': 2.0,\n",
    "    'orange': 1.0,\n",
    "    'bread': 3.5,\n",
    "    'milk': 2.5,\n",
    "    'eggs': 1.0\n",
    "}\n",
    "\n",
    "print(\"Item Prices:\")\n",
    "for item, price in item_prices.items():\n",
    "    print(f\"{item}: ${price}\")"
   ]
  },
  {
   "cell_type": "markdown",
   "metadata": {
    "id": "HhXJWLrOHBM-"
   },
   "source": [
    "## Q2. Create and print a new list that contains the names of items with prices higher than $2 from the item_prices dictionary created in Question 1 using list comprehension. [3 Marks]"
   ]
  },
  {
   "cell_type": "code",
   "execution_count": 2,
   "metadata": {
    "id": "ghMpgsUJG5cw"
   },
   "outputs": [
    {
     "name": "stdout",
     "output_type": "stream",
     "text": [
      "Items with prices higher than $2:\n",
      "['bread', 'milk']\n"
     ]
    }
   ],
   "source": [
    "expensive_items = [item for item, price in item_prices.items() if price > 2]\n",
    "\n",
    "print(\"Items with prices higher than $2:\")\n",
    "print(expensive_items)"
   ]
  },
  {
   "cell_type": "markdown",
   "metadata": {
    "id": "-Xnkna-GHpd1"
   },
   "source": [
    "## Q3. You want to add a 10% discount to the total cost of the shopping list if the total cost is greater than $20. Write a Python function that takes the total cost and applies the discount if applicable. Include error handling for negative values. [5 Marks]"
   ]
  },
  {
   "cell_type": "code",
   "execution_count": null,
   "metadata": {
    "id": "kzBtnDMbHmMn"
   },
   "outputs": [],
   "source": [
    "def apply_discount(total_cost):\n",
    "    try:\n",
    "        if total_cost < 0:\n",
    "            raise ValueError(\"Total cost cannot be negative\")\n",
    "        elif total_cost > 20:\n",
    "            return round(total_cost * 0.9, 2)\n",
    "        else:\n",
    "            return total_cost\n",
    "    except ValueError as ve:\n",
    "        print(\"Error:\", ve)\n",
    "\n",
    "#Example:\n",
    "#Prompt the user to input the cost of the shopping list\n",
    "cost_of_shopping = float(input(\"Enter the cost of the shopping list: \"))\n",
    "#Apply discount if applicable\n",
    "new_total_cost = apply_discount(cost_of_shopping)\n",
    "#Check if new total cost is valid and print it\n",
    "if new_total_cost:\n",
    "    print('New total cost after discount is $',new_total_cost)\n",
    "        "
   ]
  },
  {
   "cell_type": "markdown",
   "metadata": {
    "id": "6Hu-n1cOIGM7"
   },
   "source": [
    "## Q4. Write a while loop that asks the user to add items to their shopping list until they enter \"done.\" Store the items in a dictionary (shopping_list)and display the final shopping list. [5 Marks]"
   ]
  },
  {
   "cell_type": "code",
   "execution_count": null,
   "metadata": {
    "id": "CxG2-Bq0HzZ1"
   },
   "outputs": [],
   "source": [
    "shopping_list = {}\n",
    "\n",
    "\n",
    "while True:\n",
    "    item = input(\"Enter an item to add to your shopping list (or 'done' to finish): \").strip().lower()\n",
    "    \n",
    "   \n",
    "    if item == 'done':\n",
    "        break\n",
    "    \n",
    "    while True:\n",
    "        price_str = input(f\"Enter the price of {item} in $: \").strip()\n",
    "        try:\n",
    "            price = float(price_str)\n",
    "            if price < 0:\n",
    "                print(\"Price cannot be negative. Please enter a valid price.\")\n",
    "            else:\n",
    "                break\n",
    "        except ValueError:\n",
    "            print(\"Invalid input. Please enter a valid price.\")\n",
    "    \n",
    "    shopping_list[item] = price\n",
    "\n",
    "print(\"\\nYour shopping list:\")\n",
    "for item, price in shopping_list.items():\n",
    "    print(f\"{item.capitalize()}: ${price:.2f}\")"
   ]
  },
  {
   "cell_type": "markdown",
   "metadata": {
    "id": "ST5Jy2zjJmCe"
   },
   "source": [
    "## Q5. Filter out items from the shopping list that have a quantity less than 2. Create a function that takes the shopping list and removes items with quantities less than 2 and print the filtered list.[5 Marks]"
   ]
  },
  {
   "cell_type": "code",
   "execution_count": 2,
   "metadata": {
    "id": "3Kts1idIILN5"
   },
   "outputs": [
    {
     "name": "stdout",
     "output_type": "stream",
     "text": [
      "{'orange': 3, 'apple': 4, 'banana': 2}\n"
     ]
    }
   ],
   "source": [
    "shopping_list={'orange': 3, 'apple': 4, 'grapes': 1, 'lichi': 0, 'banana': 2}\n",
    "new_dic={};\n",
    "def helper(my_dic):\n",
    "    for k,v in my_dic.items():\n",
    "        if int(v)>=2:\n",
    "            new_dic[k]=v;\n",
    "\n",
    "helper(shopping_list);\n",
    "print(new_dic)"
   ]
  },
  {
   "cell_type": "markdown",
   "metadata": {
    "id": "FJVK06WGMbIz"
   },
   "source": [
    "## Q6. Check if an item, 'milk', is in the shopping list. Write an if statement to check for the presence of 'milk' and print a message accordingly. [5 Marks]"
   ]
  },
  {
   "cell_type": "code",
   "execution_count": 5,
   "metadata": {
    "colab": {
     "base_uri": "https://localhost:8080/"
    },
    "id": "Vnc2SYW9J5Av",
    "outputId": "d0a5a8e8-df00-4758-e86f-55d94154ca9c"
   },
   "outputs": [
    {
     "name": "stdout",
     "output_type": "stream",
     "text": [
      "Milk is not in the shopping list.\n"
     ]
    }
   ],
   "source": [
    "if 'milk' in shopping_list:\n",
    "    print(\"Milk is in the shopping list.\")\n",
    "else:\n",
    "    print(\"Milk is not in the shopping list.\")"
   ]
  },
  {
   "cell_type": "markdown",
   "metadata": {
    "id": "pGlFTYomNg2K"
   },
   "source": [
    "## Q7. Answer below questions [5 Marks]\n",
    "\n",
    "\n"
   ]
  },
  {
   "cell_type": "markdown",
   "metadata": {
    "id": "TgHF-qYVwBQY"
   },
   "source": [
    "### Q7.1 Update the price of an existing item, 'bread', in the item_prices dictionary to a new value, say 3.8. [1 mark]"
   ]
  },
  {
   "cell_type": "code",
   "execution_count": 6,
   "metadata": {
    "id": "t7URxYMMPed3"
   },
   "outputs": [
    {
     "name": "stdout",
     "output_type": "stream",
     "text": [
      "Updated Item Prices:\n",
      "apple: $2.0\n",
      "orange: $1.0\n",
      "bread: $3.8\n",
      "milk: $2.5\n",
      "eggs: $1.0\n"
     ]
    }
   ],
   "source": [
    "item_prices = {\n",
    "    'apple': 2.0,\n",
    "    'orange': 1.0,\n",
    "    'bread': 3.5,\n",
    "    'milk': 2.5,\n",
    "    'eggs': 1.0\n",
    "}\n",
    "\n",
    "item_prices['bread'] = 3.8\n",
    "\n",
    "print(\"Updated Item Prices:\")\n",
    "for item, price in item_prices.items():\n",
    "    print(f\"{item}: ${price}\")"
   ]
  },
  {
   "cell_type": "markdown",
   "metadata": {
    "id": "Ldy_yT5WwV_w"
   },
   "source": [
    "### Q7.2 Remove the item 'Orange' from the item_prices dictionary.[1 mark]"
   ]
  },
  {
   "cell_type": "code",
   "execution_count": 7,
   "metadata": {
    "id": "3w7I4FXzMkBc"
   },
   "outputs": [
    {
     "name": "stdout",
     "output_type": "stream",
     "text": [
      "Updated Item Prices:\n",
      "apple: $2.0\n",
      "bread: $3.5\n",
      "milk: $2.5\n",
      "eggs: $1.0\n"
     ]
    }
   ],
   "source": [
    "item_prices = {\n",
    "    'apple': 2.0,\n",
    "    'orange': 1.0,\n",
    "    'bread': 3.5,\n",
    "    'milk': 2.5,\n",
    "    'eggs': 1.0\n",
    "}\n",
    "\n",
    "del item_prices['orange']\n",
    "\n",
    "print(\"Updated Item Prices:\")\n",
    "for item, price in item_prices.items():\n",
    "    print(f\"{item}: ${price}\")"
   ]
  },
  {
   "cell_type": "markdown",
   "metadata": {
    "id": "DV853fKk30qz"
   },
   "source": [
    "### Q7.3 Calculate and print the average price of the items in item_prices. [2 Marks]"
   ]
  },
  {
   "cell_type": "code",
   "execution_count": 4,
   "metadata": {
    "id": "lQ28SEG733Vo"
   },
   "outputs": [
    {
     "ename": "NameError",
     "evalue": "name 'item_prices' is not defined",
     "output_type": "error",
     "traceback": [
      "\u001b[1;31m---------------------------------------------------------------------------\u001b[0m",
      "\u001b[1;31mNameError\u001b[0m                                 Traceback (most recent call last)",
      "Cell \u001b[1;32mIn[4], line 1\u001b[0m\n\u001b[1;32m----> 1\u001b[0m total_price \u001b[38;5;241m=\u001b[39m \u001b[38;5;28msum\u001b[39m(item_prices\u001b[38;5;241m.\u001b[39mvalues())\n\u001b[0;32m      2\u001b[0m num_items \u001b[38;5;241m=\u001b[39m \u001b[38;5;28mlen\u001b[39m(item_prices)\n\u001b[0;32m      4\u001b[0m \u001b[38;5;66;03m#Calculate the average price\u001b[39;00m\n",
      "\u001b[1;31mNameError\u001b[0m: name 'item_prices' is not defined"
     ]
    }
   ],
   "source": [
    "total_price = sum(item_prices.values())\n",
    "num_items = len(item_prices)\n",
    "\n",
    "#Calculate the average price\n",
    "average_price = total_price/num_items\n",
    "print(\"Average price of the items:\",average_price)"
   ]
  },
  {
   "cell_type": "markdown",
   "metadata": {
    "id": "SXnT-XxF4c7e"
   },
   "source": [
    "### Q7.4 Clear all the items in the shopping_list dictionary. [1 Mark]"
   ]
  },
  {
   "cell_type": "code",
   "execution_count": 9,
   "metadata": {
    "id": "ihjNXcy-4cZt"
   },
   "outputs": [
    {
     "name": "stdout",
     "output_type": "stream",
     "text": [
      "Updated Shopping List:\n",
      "{}\n"
     ]
    }
   ],
   "source": [
    "\n",
    "shopping_list.clear()\n",
    "\n",
    "print(\"Updated Shopping List:\")\n",
    "print(shopping_list)"
   ]
  },
  {
   "cell_type": "markdown",
   "metadata": {
    "id": "8Q2Ql63VuHyj"
   },
   "source": [
    "# You are developing a budget tracker application in Python. The application will keep track of expenses and income and allow the user to categorize their spending. You need to track different categories for expenses.  Below is the dictionary to store expenses by category.\n",
    "\n",
    "### Use a dictionary to store expenses by category\n",
    "expenses_by_category = {'groceries': 150.0, 'utilities': 200.0, 'entertainment': 100.0, 'transportation': 75.0}"
   ]
  },
  {
   "cell_type": "markdown",
   "metadata": {
    "id": "orh1dLhZ567e"
   },
   "source": [
    "### Q8.1 Write a Python snippet that calculates and print the total expenses from the expenses_by_category dictionary."
   ]
  },
  {
   "cell_type": "code",
   "execution_count": 5,
   "metadata": {
    "id": "hHHfDUHO56o7"
   },
   "outputs": [
    {
     "name": "stdout",
     "output_type": "stream",
     "text": [
      "Total expenses: 525.0\n"
     ]
    }
   ],
   "source": [
    "expenses_by_category = {'groceries': 150.0, 'utilities': 200.0, 'entertainment': 100.0, 'transportation': 75.0}\n",
    "\n",
    "total_expenses = sum(expenses_by_category.values())\n",
    "\n",
    "print(\"Total expenses:\",total_expenses)"
   ]
  },
  {
   "cell_type": "markdown",
   "metadata": {
    "id": "Xc89NPEf6Pyl"
   },
   "source": [
    "### Q8.2 Update the expense under 'entertainment' by adding an additional expense of $50."
   ]
  },
  {
   "cell_type": "code",
   "execution_count": 12,
   "metadata": {
    "id": "BtGcrsYx6Yac"
   },
   "outputs": [
    {
     "name": "stdout",
     "output_type": "stream",
     "text": [
      "Updated Expenses by Category:\n",
      "Groceries: $150.0\n",
      "Utilities: $200.0\n",
      "Entertainment: $150.0\n",
      "Transportation: $75.0\n"
     ]
    }
   ],
   "source": [
    "expenses_by_category = {\n",
    "    'groceries': 150.0,\n",
    "    'utilities': 200.0,\n",
    "    'entertainment': 100.0,\n",
    "    'transportation': 75.0\n",
    "}\n",
    "\n",
    "expenses_by_category['entertainment'] += 50.0\n",
    "\n",
    "print(\"Updated Expenses by Category:\")\n",
    "for category, expense in expenses_by_category.items():\n",
    "    print(f\"{category.capitalize()}: ${expense}\")"
   ]
  },
  {
   "cell_type": "markdown",
   "metadata": {
    "id": "_7CrXFKK6Y9l"
   },
   "source": [
    "### Q8.3 Create and add a new category 'healthcare' with an initial expense of $100 to the expenses_by_category dictionary."
   ]
  },
  {
   "cell_type": "code",
   "execution_count": 3,
   "metadata": {
    "id": "t3JBZYop6nXK"
   },
   "outputs": [
    {
     "name": "stdout",
     "output_type": "stream",
     "text": [
      "Updated Expenses by Category:\n",
      "Groceries:$150.0\n",
      "Utilities:$200.0\n",
      "Entertainment:$100.0\n",
      "Transportation:$75.0\n",
      "Healthcare:$100.0\n"
     ]
    }
   ],
   "source": [
    "expenses_by_category = {\n",
    "    'groceries': 150.0,\n",
    "    'utilities': 200.0,\n",
    "    'entertainment': 100.0,\n",
    "    'transportation': 75.0\n",
    "}\n",
    "\n",
    "expenses_by_category['healthcare'] = 100.0\n",
    "\n",
    "print(\"Updated Expenses by Category:\")\n",
    "for category, expense in expenses_by_category.items():\n",
    "    print(f\"{category.capitalize()}:${expense}\")"
   ]
  },
  {
   "cell_type": "markdown",
   "metadata": {
    "id": "LFbbJqU76-Sj"
   },
   "source": [
    "### Q8.4 Remove the 'transportation' category from the expenses_by_category dictionary."
   ]
  },
  {
   "cell_type": "code",
   "execution_count": 14,
   "metadata": {
    "id": "XIdwd1bN7EzX"
   },
   "outputs": [
    {
     "name": "stdout",
     "output_type": "stream",
     "text": [
      "Updated Expenses by Category:\n",
      "Groceries: $150.0\n",
      "Utilities: $200.0\n",
      "Entertainment: $150.0\n"
     ]
    }
   ],
   "source": [
    "del expenses_by_category['transportation']\n",
    "\n",
    "\n",
    "print(\"Updated Expenses by Category:\")\n",
    "for category, expense in expenses_by_category.items():\n",
    "    print(f\"{category.capitalize()}: ${expense}\")"
   ]
  },
  {
   "cell_type": "markdown",
   "metadata": {
    "id": "MNiQj-FX7HFu"
   },
   "source": [
    "### Q8.5 Create a list of categories that have expenses more than $100 using list comprehension."
   ]
  },
  {
   "cell_type": "code",
   "execution_count": 15,
   "metadata": {
    "id": "F0JUiZfo7RuC"
   },
   "outputs": [
    {
     "name": "stdout",
     "output_type": "stream",
     "text": [
      "Categories with expenses more than $100:\n",
      "['groceries', 'utilities', 'entertainment']\n"
     ]
    }
   ],
   "source": [
    "categories_over_100 = [category for category, expense in expenses_by_category.items() if expense > 100.0]\n",
    "\n",
    "\n",
    "print(\"Categories with expenses more than $100:\")\n",
    "print(categories_over_100)"
   ]
  },
  {
   "cell_type": "markdown",
   "metadata": {
    "id": "V7QzWsZewlOf"
   },
   "source": [
    "## Q9. From the given list of items purchased and find out how many unique items are there and also list them.\n",
    "\n",
    "Given - items_purchased = ['apple', 'banana', 'apple', 'orange', 'banana', 'apple']"
   ]
  },
  {
   "cell_type": "code",
   "execution_count": 7,
   "metadata": {
    "id": "5mSbRKeowkux"
   },
   "outputs": [
    {
     "name": "stdout",
     "output_type": "stream",
     "text": [
      "Number of unique items: 3\n",
      "Unique items: {'banana', 'apple', 'orange'}\n"
     ]
    }
   ],
   "source": [
    "items_purchased = ['apple', 'banana', 'apple', 'orange', 'banana', 'apple']\n",
    "unique_items = set(items_purchased)\n",
    "num_unique_items = len(unique_items)\n",
    "print(\"Number of unique items:\", num_unique_items)\n",
    "print(\"Unique items:\",unique_items)"
   ]
  },
  {
   "cell_type": "markdown",
   "metadata": {
    "id": "LsAwM7VBx-lj"
   },
   "source": [
    "## Q10 - From the gien list of various types of pets in a mixed order. Write a Python code  that counts the number of each type of pet and prints the most common pet type in the list. [5 Marks]\n",
    "Given - pet_list = ['dog', 'cat', 'parrot', 'dog', 'dog', 'cat', 'fish', 'parrot', 'cat', 'fish']"
   ]
  },
  {
   "cell_type": "code",
   "execution_count": 2,
   "metadata": {
    "id": "MVKSU3jkxvH3"
   },
   "outputs": [
    {
     "name": "stdout",
     "output_type": "stream",
     "text": [
      "dog: 3\n",
      "cat: 3\n",
      "parrot: 2\n",
      "fish: 2\n",
      "The most common pet type is: dog\n"
     ]
    }
   ],
   "source": [
    "pet_list = ['dog', 'cat', 'parrot', 'dog', 'dog', 'cat', 'fish', 'parrot', 'cat', 'fish']\n",
    "\n",
    "# Count occurrences of each pet type\n",
    "pet_counts = {}\n",
    "for pet in pet_list:\n",
    "    if pet in pet_counts:\n",
    "        pet_counts[pet] += 1\n",
    "    else:\n",
    "        pet_counts[pet] = 1\n",
    "\n",
    "# Find the most common pet type\n",
    "max_count = 0\n",
    "most_common_pet = None\n",
    "for pet, count in pet_counts.items():\n",
    "    if count > max_count:\n",
    "        max_count = count\n",
    "        most_common_pet = pet\n",
    "\n",
    "# Print the counts of each pet type\n",
    "for pet, count in pet_counts.items():\n",
    "    print(f\"{pet}: {count}\")\n",
    "\n",
    "print(\"The most common pet type is:\", most_common_pet)"
   ]
  }
 ],
 "metadata": {
  "colab": {
   "collapsed_sections": [
    "ST5Jy2zjJmCe",
    "FJVK06WGMbIz",
    "pGlFTYomNg2K",
    "WoyD6mFhuytF",
    "V7QzWsZewlOf",
    "LsAwM7VBx-lj"
   ],
   "provenance": []
  },
  "kernelspec": {
   "display_name": "Python 3 (ipykernel)",
   "language": "python",
   "name": "python3"
  },
  "language_info": {
   "codemirror_mode": {
    "name": "ipython",
    "version": 3
   },
   "file_extension": ".py",
   "mimetype": "text/x-python",
   "name": "python",
   "nbconvert_exporter": "python",
   "pygments_lexer": "ipython3",
   "version": "3.11.5"
  }
 },
 "nbformat": 4,
 "nbformat_minor": 1
}
